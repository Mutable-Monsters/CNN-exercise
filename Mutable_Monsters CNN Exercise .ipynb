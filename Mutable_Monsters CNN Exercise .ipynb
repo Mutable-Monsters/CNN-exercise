{
 "cells": [
  {
   "cell_type": "markdown",
   "metadata": {},
   "source": [
    "# MST698S CNN EXERCISE\n",
    "##### By Amil Arthur & Antonella Sciortino  "
   ]
  },
  {
   "cell_type": "code",
   "execution_count": 1,
   "metadata": {},
   "outputs": [],
   "source": [
    "#Import Libraries\n",
    "import torch\n",
    "import torchvision\n",
    "import torchvision.transforms as transforms \n",
    "import torch.nn as nn\n",
    "import torch.nn.functional as F\n",
    "import torchvision.transforms as transforms\n",
    "import torch.optim as optim\n",
    "torch.set_grad_enabled(True)\n",
    "torch.set_printoptions(linewidth =120) \n",
    "import numpy as np\n",
    "import pandas as pd\n",
    "import matplotlib.pyplot as plt \n",
    "from sklearn.metrics import confusion_matrix\n",
    "import itertools"
   ]
  },
  {
   "cell_type": "code",
   "execution_count": 2,
   "metadata": {},
   "outputs": [],
   "source": [
    "# Build CNN Model using Pytorch\n",
    "class Network(nn.Module):\n",
    "    def __init__(self):\n",
    "        super().__init__()\n",
    "        self.conv1 = nn.Conv2d(in_channels=1, out_channels=6, kernel_size=5)\n",
    "        self.conv2 = nn.Conv2d(in_channels=6, out_channels=12, kernel_size=5)\n",
    "        \n",
    "        self.fc1 = nn.Linear(in_features=12*4*4, out_features=120)\n",
    "        self.fc2 = nn.Linear(in_features=120, out_features=60)\n",
    "        self.out = nn.Linear(in_features=60, out_features=10)\n",
    "        \n",
    "    def forward(self, t):\n",
    "        # (1) input layer\n",
    "        t = t\n",
    "        \n",
    "        # (2) hidden conv layer\n",
    "        t = self.conv1(t)\n",
    "        t = F.relu(t)\n",
    "        t = F.max_pool2d(t, kernel_size=2, stride=2)\n",
    "        \n",
    "        # (3) hidden conv layer\n",
    "        t = self.conv2(t)\n",
    "        t = F.relu(t)\n",
    "        t = F.max_pool2d(t, kernel_size=2, stride=2)\n",
    "        \n",
    "        # (4) hidden linear layer\n",
    "        t = t.reshape(-1, 12 * 4 * 4)\n",
    "        t = self.fc1(t)\n",
    "        t = F.relu(t)\n",
    "        \n",
    "        # (5) hidden linear layer\n",
    "        t = self.fc2(t)\n",
    "        t = F.relu(t)\n",
    "        \n",
    "        # (6) output layer\n",
    "        t = self.out(t)\n",
    "        #t = F.softmax(t, dim=1)\n",
    "        \n",
    "        return t"
   ]
  },
  {
   "cell_type": "code",
   "execution_count": 3,
   "metadata": {},
   "outputs": [],
   "source": [
    "#Download FashionMNIST dataset\n",
    "train_set = torchvision.datasets.FashionMNIST(\n",
    "    root='./data/FashionMNIST'\n",
    "    ,train=True\n",
    "    ,download=True\n",
    "    ,transform=transforms.Compose([\n",
    "        transforms.ToTensor()\n",
    "    ])\n",
    ")"
   ]
  },
  {
   "cell_type": "code",
   "execution_count": 4,
   "metadata": {},
   "outputs": [],
   "source": [
    "# Instantiate CNN  \n",
    "network = Network()\n",
    "\n",
    "#Load images into batches\n",
    "train_loader = torch.utils.data.DataLoader(train_set, batch_size=100)\n",
    "batch = next(iter(train_loader)) # Getting a batch\n",
    "images, labels = batch"
   ]
  },
  {
   "cell_type": "code",
   "execution_count": 5,
   "metadata": {},
   "outputs": [
    {
     "data": {
      "text/plain": [
       "2.3004541397094727"
      ]
     },
     "execution_count": 5,
     "metadata": {},
     "output_type": "execute_result"
    }
   ],
   "source": [
    "preds = network(images)\n",
    "loss = F.cross_entropy(preds, labels) # Calculating the loss\n",
    " \n",
    "loss.item()\n",
    "\n",
    "# Function to get preditions \n",
    "def get_num_correct(preds, labels):\n",
    "    return preds.argmax(dim=1).eq(labels).sum().item()\n",
    " \n",
    "get_num_correct(preds, labels)\n",
    "\n",
    "#Calculating the Gradients\n",
    "network.conv1.weight.grad\n",
    "loss.backward() \n",
    "network.conv1.weight.grad.shape\n",
    " \n",
    "#Updating the Weights\n",
    "optimizer = optim.Adam(network.parameters(), lr=0.01)\n",
    "optimizer.step() \n",
    " \n",
    "preds = network(images)\n",
    "loss.item()"
   ]
  },
  {
   "cell_type": "code",
   "execution_count": 6,
   "metadata": {},
   "outputs": [
    {
     "name": "stdout",
     "output_type": "stream",
     "text": [
      "loss1: 2.2738230228424072\n",
      "loss2: 2.190732479095459\n"
     ]
    }
   ],
   "source": [
    "#Calculate & update Loss\n",
    " \n",
    "train_loader = torch.utils.data.DataLoader(train_set, batch_size=100)\n",
    "optimizer = optim.Adam(network.parameters(), lr=0.01)\n",
    " \n",
    "# Get Batch    \n",
    "batch = next(iter(train_loader)) \n",
    "images, labels = batch\n",
    " \n",
    "preds = network(images) # Pass Batch\n",
    "loss = F.cross_entropy(preds, labels) # Calculate Loss\n",
    "\n",
    "# Calculate Gradients & Update Weights\n",
    "loss.backward() \n",
    "optimizer.step() \n",
    " \n",
    "print('loss1:', loss.item())\n",
    "preds = network(images)\n",
    "loss = F.cross_entropy(preds, labels)\n",
    "print('loss2:', loss.item())"
   ]
  },
  {
   "cell_type": "code",
   "execution_count": 7,
   "metadata": {},
   "outputs": [
    {
     "name": "stdout",
     "output_type": "stream",
     "text": [
      "epoch 0 total_correct: 47737 loss: 324.6319432705641\n",
      "epoch 1 total_correct: 51594 loss: 224.3890337049961\n",
      "epoch 2 total_correct: 52180 loss: 210.5389592051506\n",
      "epoch 3 total_correct: 52697 loss: 197.26957465708256\n",
      "epoch 4 total_correct: 52960 loss: 189.20001480728388\n"
     ]
    }
   ],
   "source": [
    "# Train Model \n",
    "train_loader = torch.utils.data.DataLoader(train_set, batch_size=100)\n",
    "optimizer = optim.Adam(network.parameters(), lr=0.01)\n",
    " \n",
    "for epoch in range(5):\n",
    "    \n",
    "    total_loss = 0\n",
    "    total_correct = 0\n",
    "\n",
    "# Get Batch    \n",
    "    for batch in train_loader: \n",
    "        images, labels = batch \n",
    " \n",
    "        preds = network(images) \n",
    "        loss = F.cross_entropy(preds, labels) \n",
    " \n",
    "        optimizer.zero_grad()\n",
    "        loss.backward() \n",
    "        optimizer.step() \n",
    " \n",
    "        total_loss += loss.item()\n",
    "        total_correct += get_num_correct(preds, labels)\n",
    " \n",
    "    print(\n",
    "        \"epoch\", epoch, \n",
    "        \"total_correct:\", total_correct, \n",
    "        \"loss:\", total_loss\n",
    "    )"
   ]
  },
  {
   "cell_type": "code",
   "execution_count": 8,
   "metadata": {},
   "outputs": [
    {
     "name": "stdout",
     "output_type": "stream",
     "text": [
      "total correct: 52743\n",
      "accuracy: 0.87905\n"
     ]
    }
   ],
   "source": [
    "# Places model into eval mode for testing \n",
    "@torch.no_grad()\n",
    "def get_all_preds(model, loader):\n",
    "    all_preds = torch.tensor([])\n",
    "    for batch in loader:\n",
    "        images, labels = batch\n",
    " \n",
    "        preds = model(images)\n",
    "        all_preds = torch.cat(\n",
    "            (all_preds, preds)\n",
    "            ,dim=0\n",
    "        )\n",
    "    return all_preds\n",
    "\n",
    "with torch.no_grad():\n",
    "    prediction_loader = torch.utils.data.DataLoader(train_set, batch_size=10000)\n",
    "    train_preds = get_all_preds(network, prediction_loader)\n",
    "\n",
    "preds_correct = get_num_correct(train_preds, train_set.targets)\n",
    " \n",
    "print('total correct:', preds_correct)\n",
    "print('accuracy:', preds_correct / len(train_set))"
   ]
  },
  {
   "cell_type": "code",
   "execution_count": 9,
   "metadata": {},
   "outputs": [
    {
     "data": {
      "text/plain": [
       "tensor([[5411,   37,   81,  106,   12,    1,  324,    1,   27,    0],\n",
       "        [  17, 5915,    3,   50,    1,    1,    4,    0,    9,    0],\n",
       "        [  79,   15, 4726,   70,  797,    1,  264,    0,   48,    0],\n",
       "        [ 237,  206,   20, 5322,   49,    1,  152,    1,   12,    0],\n",
       "        [  10,   46,  320,  499, 4773,    0,  291,    0,   61,    0],\n",
       "        [   5,    4,    0,    4,    0, 5822,    0,  121,   11,   33],\n",
       "        [1117,   23,  564,  188,  580,    0, 3450,    0,   78,    0],\n",
       "        [   1,    0,    0,    1,    0,   49,    0, 5858,    2,   89],\n",
       "        [  44,   15,   19,   33,   11,    9,   27,    9, 5832,    1],\n",
       "        [   1,    0,    0,    2,    0,   37,    0,  323,    3, 5634]])"
      ]
     },
     "execution_count": 9,
     "metadata": {},
     "output_type": "execute_result"
    }
   ],
   "source": [
    "#Generate Confusion Matrix for all 10 Classes \n",
    "train_set.targets\n",
    "train_preds.argmax(dim=1)\n",
    "\n",
    "stacked = torch.stack(\n",
    "    (\n",
    "        train_set.targets\n",
    "        ,train_preds.argmax(dim=1)\n",
    "    )\n",
    "    ,dim=1\n",
    ")\n",
    " \n",
    "stacked.shape\n",
    "\n",
    "cmt = torch.zeros(10,10, dtype=torch.int64)\n",
    "cmt\n",
    "\n",
    "for p in stacked:\n",
    "    tl, pl = p.tolist()\n",
    "    cmt[tl, pl] = cmt[tl, pl] + 1\n",
    "\n",
    "cmt"
   ]
  },
  {
   "cell_type": "code",
   "execution_count": 10,
   "metadata": {
    "scrolled": true
   },
   "outputs": [
    {
     "name": "stdout",
     "output_type": "stream",
     "text": [
      "Confusion matrix, without normalization\n",
      "tensor([[5411,   37,   81,  106,   12,    1,  324,    1,   27,    0],\n",
      "        [  17, 5915,    3,   50,    1,    1,    4,    0,    9,    0],\n",
      "        [  79,   15, 4726,   70,  797,    1,  264,    0,   48,    0],\n",
      "        [ 237,  206,   20, 5322,   49,    1,  152,    1,   12,    0],\n",
      "        [  10,   46,  320,  499, 4773,    0,  291,    0,   61,    0],\n",
      "        [   5,    4,    0,    4,    0, 5822,    0,  121,   11,   33],\n",
      "        [1117,   23,  564,  188,  580,    0, 3450,    0,   78,    0],\n",
      "        [   1,    0,    0,    1,    0,   49,    0, 5858,    2,   89],\n",
      "        [  44,   15,   19,   33,   11,    9,   27,    9, 5832,    1],\n",
      "        [   1,    0,    0,    2,    0,   37,    0,  323,    3, 5634]])\n"
     ]
    },
    {
     "data": {
      "image/png": "[encoded data removed]",
      "text/plain": [
       "<Figure size 720x720 with 2 Axes>"
      ]
     },
     "metadata": {
      "needs_background": "light"
     },
     "output_type": "display_data"
    }
   ],
   "source": [
    "# Graph Matrix with heatmap \n",
    "def plot_confusion_matrix(cm, classes, normalize=False, title='Confusion matrix', cmap=plt.cm.Blues):\n",
    "    if normalize:\n",
    "        cm = cm.astype('float') / cm.sum(axis=1)[:, np.newaxis]\n",
    "        print(\"Normalized confusion matrix\")\n",
    "    else:\n",
    "        print('Confusion matrix, without normalization')\n",
    " \n",
    "    print(cm)\n",
    "    plt.imshow(cm, interpolation='nearest', cmap=cmap)\n",
    "    plt.title(title)\n",
    "    plt.colorbar()\n",
    "    tick_marks = np.arange(len(classes))\n",
    "    plt.xticks(tick_marks, classes, rotation=45)\n",
    "    plt.yticks(tick_marks, classes)\n",
    " \n",
    "    fmt = '.2f' if normalize else 'd'\n",
    "    thresh = cm.max() / 2.\n",
    "    for i, j in itertools.product(range(cm.shape[0]), range(cm.shape[1])):\n",
    "        plt.text(j, i, format(cm[i, j], fmt), horizontalalignment=\"center\", color=\"white\" if cm[i, j] > thresh else \"black\")\n",
    " \n",
    "    plt.tight_layout()\n",
    "    plt.ylabel('True label')\n",
    "    plt.xlabel('Predicted label')\n",
    "\n",
    "\n",
    "names = (\n",
    "    'T-shirt/top'\n",
    "    ,'Trouser'\n",
    "    ,'Pullover'\n",
    "    ,'Dress'\n",
    "    ,'Coat'\n",
    "    ,'Sandal'\n",
    "    ,'Shirt'\n",
    "    ,'Sneaker'\n",
    "    ,'Bag'\n",
    "    ,'Ankle boot'\n",
    ")\n",
    "plt.figure(figsize=(10,10))\n",
    "plot_confusion_matrix(cmt, names)"
   ]
  },
  {
   "cell_type": "code",
   "execution_count": 11,
   "metadata": {},
   "outputs": [],
   "source": [
    "#Derive Stats for each class from confusion matrix\n",
    "Class_FP = cmt.sum(axis=0) - np.diag(cmt) \n",
    "Class_FN = cmt.sum(axis=1) - np.diag(cmt)\n",
    "Class_TP = np.diag(cmt)\n",
    "Class_TN = cmt.sum() - (Class_FP + Class_FN + Class_TP)\n"
   ]
  },
  {
   "cell_type": "code",
   "execution_count": 15,
   "metadata": {},
   "outputs": [],
   "source": [
    "#Convert Tensors to Numpy array\n",
    "Class_FP = Class_FP.numpy()\n",
    "Class_FN = Class_FN.numpy()\n",
    "Class_TN = Class_TN.numpy()\n"
   ]
  },
  {
   "cell_type": "code",
   "execution_count": null,
   "metadata": {},
   "outputs": [],
   "source": [
    "#Print statistic for each class\n",
    "print (Class_FP)\n",
    "print (Class_FN)\n",
    "print (Class_TP)\n",
    "print (Class_TN)\n"
   ]
  },
  {
   "cell_type": "code",
   "execution_count": 21,
   "metadata": {},
   "outputs": [
    {
     "name": "stdout",
     "output_type": "stream",
     "text": [
      "53274.3\n",
      "725.7\n",
      "5274.3\n",
      "725.7\n"
     ]
    }
   ],
   "source": [
    "# Takes average for all classes & gets Stats for entire model  \n",
    "TN_Sum = 0\n",
    "FN_Sum = 0\n",
    "TP_Sum = 0\n",
    "FP_Sum = 0\n",
    "     \n",
    "\n",
    "for i in range(0, len(Class_TN)):    \n",
    "    TN_Sum = TN_Sum + Class_TN[i];  \n",
    "\n",
    "TN = TN_Sum/10     \n",
    "\n",
    "for i in range(0, len(Class_FN)):    \n",
    "    FN_Sum = FN_Sum + Class_FN[i];  \n",
    "\n",
    "FN = FN_Sum/10  \n",
    "\n",
    "for i in range(0, len(Class_TP)):    \n",
    "    TP_Sum = TP_Sum + Class_TP[i];  \n",
    "\n",
    "TP = TP_Sum/10  \n",
    "\n",
    "for i in range(0, len(Class_FP)):    \n",
    "    FP_Sum = FP_Sum + Class_FP[i];  \n",
    "\n",
    "FP = FP_Sum/10  \n",
    "\n",
    "print(TN);   \n",
    "print(FN);\n",
    "print(TP);\n",
    "print(FP);"
   ]
  },
  {
   "cell_type": "code",
   "execution_count": 23,
   "metadata": {},
   "outputs": [],
   "source": [
    "#Cohen's Kappa formula \n",
    "Po = (TN + TP)/ (FP + TN + FN + TP)\n",
    "Pyes = (TP + FN)/(FP + TN + FN + TP) * (((TP + FP)/(FP + TN + FN + TP)))\n",
    "Pno = (FP + TN)/(FP + TN + FN + TP) * (((FN + TN)/(FP + TN + FN + TP)))\n",
    "Pe = Pyes + Pno\n",
    "K = (Po - Pe) /(1 - Pe)\n"
   ]
  },
  {
   "cell_type": "code",
   "execution_count": 24,
   "metadata": {},
   "outputs": [
    {
     "name": "stdout",
     "output_type": "stream",
     "text": [
      "0.8656111111111114\n"
     ]
    }
   ],
   "source": [
    "#Print Cohen's Kappa score\n",
    "print (K)"
   ]
  },
  {
   "cell_type": "markdown",
   "metadata": {},
   "source": [
    "## 1. Describe other ways that image classifiers could be used to streamline data sorting?\n",
    "\n",
    "A couple ways that image classifiers can be used to streamline data sorting is through Keras and TensorFlow.  TensorFlow and Keras are both Python libraries that use numerical computation and data flow graphs to do machine learning and deep neural networks research.  Keras allows for data to be collected and separated in certain classes. For example, different types of flowers (i.e. roses, dandelions, tulips, etc…) or fruits (i.e. apples, oranges, pears, etc..). The data can come from anywhere such as Satellite, Google, Kaggle, Yandex, and Flickr to name a few.  Analysts can use image classification for analysis and geoprocessing. One example is through ArcGIS, a cloud-based mapping, analysis and data storage system used to create, share and manage maps, scenes, layers, apps and other geographic content. In ArcGIS, you can perform multidimensional analysis using raster data to research scientific trends and anomalies. In ArcGIS, you can also conduct space analysis through the use of seamless transformation between an image coordination system (ICS) and map coordinate system to display, interpret, collect and edit GIS feature data on respective imagery"
   ]
  },
  {
   "cell_type": "markdown",
   "metadata": {},
   "source": [
    "## 2. How well does the model perform? Would you deploy this model? Why or Why not?\n",
    "\n",
    "Our image classifier model to identify Denovian military vehicles in support of the United Nations (U.N.) mission is performing at around 88%; therefore, we will choose to deploy our model.  According to the results in our image classification inference script, we've obtained Cohen’s Kappa formula score of .85, which suggest 'near perfect agreement.'\n",
    "\n"
   ]
  }
 ],
 "metadata": {
  "kernelspec": {
   "display_name": "Python 3",
   "language": "python",
   "name": "python3"
  },
  "language_info": {
   "codemirror_mode": {
    "name": "ipython",
    "version": 3
   },
   "file_extension": ".py",
   "mimetype": "text/x-python",
   "name": "python",
   "nbconvert_exporter": "python",
   "pygments_lexer": "ipython3",
   "version": "3.7.4"
  }
 },
 "nbformat": 4,
 "nbformat_minor": 2
}
